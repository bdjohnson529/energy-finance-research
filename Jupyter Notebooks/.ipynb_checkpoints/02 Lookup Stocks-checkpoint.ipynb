{
 "cells": [
  {
   "cell_type": "markdown",
   "metadata": {},
   "source": [
    "# Lookup Stocks\n",
    "\n",
    "Using the list of upstream oil companies, we will query the Yahoo API and retrieve stock information.\n",
    "\n",
    "Output Dataset:\n",
    "```\n",
    "../Data/YFinance/TICKER.csv\n",
    "```"
   ]
  },
  {
   "cell_type": "code",
   "execution_count": 1,
   "metadata": {},
   "outputs": [],
   "source": [
    "import yfinance as yf\n",
    "import pandas as pd"
   ]
  },
  {
   "cell_type": "code",
   "execution_count": 2,
   "metadata": {},
   "outputs": [],
   "source": [
    "# import and clean deata\n",
    "df = pd.read_csv('../Data/20201124_scraped_upstream_companies.csv')\n",
    "input_df = df.loc[~df['Ticker'].isna()][['Company Name', 'Ticker']]"
   ]
  },
  {
   "cell_type": "code",
   "execution_count": 3,
   "metadata": {},
   "outputs": [],
   "source": [
    "def LookupStock(ticker):\n",
    "    \"\"\"\n",
    "    Lookups up financial information about a public traded stock.\n",
    "    \"\"\"\n",
    "    print(ticker)\n",
    "    msft = yf.Ticker(ticker)\n",
    "    \n",
    "    try:\n",
    "        # convert output to pandas dataframe\n",
    "        info = msft.info\n",
    "        df = pd.DataFrame(list(info.items()), columns=['key','value'])\n",
    "\n",
    "        # write to csv\n",
    "        df.to_csv(f'../Data/YFinance/{ticker}.csv', index=False)\n",
    "        \n",
    "        \n",
    "        # extract data\n",
    "        marketCap = df.loc[df['key'] == 'marketCap']['value'].values\n",
    "        print(f'Market cap : {marketCap}')\n",
    "        return None\n",
    "    except:\n",
    "        marketCap = None\n",
    "        return None"
   ]
  },
  {
   "cell_type": "code",
   "execution_count": null,
   "metadata": {},
   "outputs": [
    {
     "name": "stdout",
     "output_type": "stream",
     "text": [
      "AXAS\n",
      "AE\n",
      "AMPY\n",
      "AR\n",
      "APA\n",
      "AREXQ\n",
      "BSM\n",
      "BCEI\n",
      "COG\n",
      "CRC\n",
      "CPE\n",
      "CEI\n",
      "CDEV\n",
      "CHKAQ\n",
      "XEC\n"
     ]
    }
   ],
   "source": [
    "# export ticker results\n",
    "input_df['Market Cap'] = input_df['Ticker'].apply(LookupStock)\n",
    "\n",
    "#df = LookupStock(ticker)\n",
    "\n",
    "#df\n",
    "input_df"
   ]
  },
  {
   "cell_type": "code",
   "execution_count": null,
   "metadata": {},
   "outputs": [],
   "source": []
  }
 ],
 "metadata": {
  "kernelspec": {
   "display_name": "Python 3",
   "language": "python",
   "name": "python3"
  },
  "language_info": {
   "codemirror_mode": {
    "name": "ipython",
    "version": 3
   },
   "file_extension": ".py",
   "mimetype": "text/x-python",
   "name": "python",
   "nbconvert_exporter": "python",
   "pygments_lexer": "ipython3",
   "version": "3.7.6"
  }
 },
 "nbformat": 4,
 "nbformat_minor": 4
}
