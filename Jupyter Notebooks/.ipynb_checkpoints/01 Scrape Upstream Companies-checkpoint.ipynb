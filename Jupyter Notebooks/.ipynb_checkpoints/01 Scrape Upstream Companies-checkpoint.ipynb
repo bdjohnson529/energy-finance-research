{
 "cells": [
  {
   "cell_type": "markdown",
   "metadata": {},
   "source": [
    "# Scrape Upstream Companies\n",
    "[Evaluate Energy](https://blog.evaluateenergy.com/list-of-u-s-oil-gas-companies) published a list of upstream, midstream and downstream oil and gas companies in 2018. We are going to scrape that list."
   ]
  },
  {
   "cell_type": "code",
   "execution_count": 1,
   "metadata": {},
   "outputs": [],
   "source": [
    "from bs4 import BeautifulSoup\n",
    "import requests as req\n",
    "import pandas as pd"
   ]
  },
  {
   "cell_type": "markdown",
   "metadata": {},
   "source": [
    "## Scrape Company Names"
   ]
  },
  {
   "cell_type": "code",
   "execution_count": 5,
   "metadata": {},
   "outputs": [
    {
     "data": {
      "text/html": [
       "<div>\n",
       "<style scoped>\n",
       "    .dataframe tbody tr th:only-of-type {\n",
       "        vertical-align: middle;\n",
       "    }\n",
       "\n",
       "    .dataframe tbody tr th {\n",
       "        vertical-align: top;\n",
       "    }\n",
       "\n",
       "    .dataframe thead th {\n",
       "        text-align: right;\n",
       "    }\n",
       "</style>\n",
       "<table border=\"1\" class=\"dataframe\">\n",
       "  <thead>\n",
       "    <tr style=\"text-align: right;\">\n",
       "      <th></th>\n",
       "      <th>Company Name</th>\n",
       "    </tr>\n",
       "  </thead>\n",
       "  <tbody>\n",
       "    <tr>\n",
       "      <th>0</th>\n",
       "      <td>Abraxas Petroleum Corp.</td>\n",
       "    </tr>\n",
       "    <tr>\n",
       "      <th>1</th>\n",
       "      <td>Adams Resources &amp; Energy Inc.</td>\n",
       "    </tr>\n",
       "    <tr>\n",
       "      <th>2</th>\n",
       "      <td>Amplify Energy Corp.</td>\n",
       "    </tr>\n",
       "    <tr>\n",
       "      <th>3</th>\n",
       "      <td>Anadarko Petroleum Corp.</td>\n",
       "    </tr>\n",
       "    <tr>\n",
       "      <th>4</th>\n",
       "      <td>Antero Resources Corp.</td>\n",
       "    </tr>\n",
       "  </tbody>\n",
       "</table>\n",
       "</div>"
      ],
      "text/plain": [
       "                    Company Name\n",
       "0        Abraxas Petroleum Corp.\n",
       "1  Adams Resources & Energy Inc.\n",
       "2           Amplify Energy Corp.\n",
       "3       Anadarko Petroleum Corp.\n",
       "4         Antero Resources Corp."
      ]
     },
     "execution_count": 5,
     "metadata": {},
     "output_type": "execute_result"
    }
   ],
   "source": [
    "# get html\n",
    "url = 'https://blog.evaluateenergy.com/list-of-u-s-oil-gas-companies'\n",
    "resp = req.get(url)\n",
    "\n",
    "soup = BeautifulSoup(resp.text, 'lxml')\n",
    "\n",
    "# parse list\n",
    "upstream_ul = soup.find('p', string='Upstream companies').findNext('ul')\n",
    "upstream_list = upstream_ul.findAll('li')\n",
    "upstream_list = [x.getText().replace('\\xa0', ' ') for x in upstream_list]\n",
    "\n",
    "\n",
    "# create dataframe\n",
    "df = pd.DataFrame(upstream_list, columns=['Company Name'])\n",
    "df.head()"
   ]
  },
  {
   "cell_type": "markdown",
   "metadata": {},
   "source": [
    "## Scrape Ticker Symbols"
   ]
  },
  {
   "cell_type": "code",
   "execution_count": 48,
   "metadata": {},
   "outputs": [],
   "source": [
    "def GenerateQuery(input_str):\n",
    "    output_str = 'https://finance.yahoo.com/lookup?s=' + input_str.replace(' ', '%20')\n",
    "    return output_str\n",
    "\n",
    "df['URL'] = df['Company Name'].apply(GenerateQuery)\n",
    "\n"
   ]
  },
  {
   "cell_type": "code",
   "execution_count": 54,
   "metadata": {},
   "outputs": [],
   "source": []
  },
  {
   "cell_type": "code",
   "execution_count": 51,
   "metadata": {},
   "outputs": [
    {
     "data": {
      "text/plain": [
       "['AXAS']"
      ]
     },
     "execution_count": 51,
     "metadata": {},
     "output_type": "execute_result"
    }
   ],
   "source": [
    "ticker_attrs = soup.find_all(attrs={'data-symbol':True, 'class':'Fw(b)'})\n",
    "ticker_list = [x.text for x in ticker_attrs if x.text != 'Energy']\n",
    "ticker_list"
   ]
  },
  {
   "cell_type": "code",
   "execution_count": 53,
   "metadata": {},
   "outputs": [
    {
     "data": {
      "text/plain": [
       "['AE']"
      ]
     },
     "execution_count": 53,
     "metadata": {},
     "output_type": "execute_result"
    }
   ],
   "source": [
    "\n",
    "ticker_list"
   ]
  },
  {
   "cell_type": "code",
   "execution_count": 71,
   "metadata": {},
   "outputs": [
    {
     "data": {
      "text/plain": [
       "('Adams Resources & Energy, Inc.', 'AE')"
      ]
     },
     "execution_count": 71,
     "metadata": {},
     "output_type": "execute_result"
    }
   ],
   "source": [
    "def GetTicker(input_name):\n",
    "    \"\"\"\n",
    "    Scrapes yahoo finance for ticker symbols\n",
    "    \"\"\"\n",
    "    # query yahoo finance\n",
    "    url = 'https://finance.yahoo.com/lookup?s=' + input_name.replace(' ', '%20')    \n",
    "    resp = req.get(url)\n",
    "    soup = BeautifulSoup(resp.text, 'lxml')\n",
    "\n",
    "    # parse result\n",
    "    ticker_attrs = soup.find_all(attrs={'data-symbol':True, 'class':'Fw(b)'})\n",
    "    company_ticker = [x.text for x in ticker_attrs if x.text != 'Energy'].pop()\n",
    "    company_name = [x['title'] for x in ticker_attrs if x.text != 'Energy'].pop()\n",
    "\n",
    "    return company_name, company_ticker\n"
   ]
  },
  {
   "cell_type": "code",
   "execution_count": 56,
   "metadata": {
    "scrolled": true
   },
   "outputs": [
    {
     "data": {
      "text/plain": [
       "[<a class=\"Fw(b)\" data-reactid=\"57\" data-symbol=\"AMPY\" href=\"/quote/AMPY?p=AMPY\" title=\"Amplify Energy Corp.\">AMPY</a>,\n",
       " <a class=\"Fw(b)\" data-reactid=\"61\" data-symbol=\"AMPY\" href=\"https://finance.yahoo.com/sector/energy\" title=\"Energy\">Energy</a>]"
      ]
     },
     "execution_count": 56,
     "metadata": {},
     "output_type": "execute_result"
    }
   ],
   "source": [
    "ticker_attrs"
   ]
  },
  {
   "cell_type": "code",
   "execution_count": 44,
   "metadata": {},
   "outputs": [],
   "source": [
    "# export\n",
    "df.to_csv('../Data/upstream_companies.csv', sep=\"|\", index=False)"
   ]
  },
  {
   "cell_type": "code",
   "execution_count": null,
   "metadata": {},
   "outputs": [],
   "source": []
  }
 ],
 "metadata": {
  "kernelspec": {
   "display_name": "Python 3",
   "language": "python",
   "name": "python3"
  },
  "language_info": {
   "codemirror_mode": {
    "name": "ipython",
    "version": 3
   },
   "file_extension": ".py",
   "mimetype": "text/x-python",
   "name": "python",
   "nbconvert_exporter": "python",
   "pygments_lexer": "ipython3",
   "version": "3.7.6"
  }
 },
 "nbformat": 4,
 "nbformat_minor": 4
}
